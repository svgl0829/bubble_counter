{
  "nbformat": 4,
  "nbformat_minor": 0,
  "metadata": {
    "colab": {
      "name": "TensorFlow_bubble_0207",
      "provenance": [],
      "collapsed_sections": [],
      "mount_file_id": "1YdxE4cxx0yG3fzMucNDeQML9YXh7mmn0",
      "authorship_tag": "ABX9TyMJT5P1b4e48XozkNf1BQ+4",
      "include_colab_link": true
    },
    "kernelspec": {
      "display_name": "Python 3",
      "name": "python3"
    }
  },
  "cells": [
    {
      "cell_type": "markdown",
      "metadata": {
        "id": "view-in-github",
        "colab_type": "text"
      },
      "source": [
        "<a href=\"https://colab.research.google.com/github/svgl0829/test1/blob/master/TensorFlow_bubble_0207.ipynb\" target=\"_parent\"><img src=\"https://colab.research.google.com/assets/colab-badge.svg\" alt=\"Open In Colab\"/></a>"
      ]
    },
    {
      "cell_type": "code",
      "metadata": {
        "id": "a8yvSCiwedHM"
      },
      "source": [
        "import tensorflow as tf\n",
        "import keras\n",
        "\n",
        "import os\n",
        "import cv2\n",
        "import matplotlib.pyplot as plt\n",
        "import numpy as np\n",
        "import random\n",
        "import math\n",
        "from math import sqrt"
      ],
      "execution_count": null,
      "outputs": []
    },
    {
      "cell_type": "code",
      "metadata": {
        "id": "gR4NDqWoVGjL"
      },
      "source": [
        "def gray_image_creater(IMG_SIZE, RAD, num_bub):\n",
        "  img = np.full((IMG_SIZE,IMG_SIZE, 3), 192, np.uint8)\n",
        "  \n",
        "  location_x = []\n",
        "  location_y = []\n",
        "  \n",
        "  for i in range(num_bub):\n",
        "    \n",
        "    while True:\n",
        "      x = int(random.uniform(RAD, IMG_SIZE - RAD))\n",
        "      y = int(random.uniform(RAD, IMG_SIZE - RAD))\n",
        "      \n",
        "      if i == 0:\n",
        "        break\n",
        "        \n",
        "      #気泡どおしの距離\n",
        "      d = [sqrt((location_x[j] - x) ** 2 + (location_y[j] - y) ** 2) for j in range(i)]\n",
        "      \n",
        "      NG_counter = 0\n",
        "      for j in range(i):\n",
        "        if d[j] < 2* RAD:\n",
        "          #重なり具合を指定\n",
        "          NG_counter = NG_counter + 1\n",
        "      \n",
        "      if NG_counter == 0:\n",
        "        break\n",
        "        \n",
        "    cv2.circle(img, (x, y), RAD, (0, 0, 0), -1)\n",
        "    location_x.append(x)\n",
        "    location_y.append(y)\n",
        "\n",
        "    img_gray = img[:, :, 1] #3channel -> 1channel\n",
        "  \n",
        "  return img_gray"
      ],
      "execution_count": null,
      "outputs": []
    },
    {
      "cell_type": "code",
      "metadata": {
        "colab": {
          "base_uri": "https://localhost:8080/",
          "height": 1000
        },
        "id": "R-eOZN_nVIkB",
        "outputId": "dcaf5c56-4e31-47cf-a48b-997a04604106"
      },
      "source": [
        "#大量のgray画像を作成\n",
        "\n",
        "#画像のサイズ\n",
        "IMG_SIZE = 28\n",
        "#気泡半径\n",
        "RAD = 3\n",
        "#気泡数\n",
        "NUM_BUB = 6\n",
        "#作成する図の数\n",
        "NUM_IMG = 20000\n",
        "\n",
        "data = []\n",
        "teacher_labels = []\n",
        "\n",
        "counter = 0\n",
        "#気泡の数のループ\n",
        "for num_bub in range(NUM_BUB):\n",
        "\n",
        "  #作成する図の数のループ\n",
        "  for num_img in range(NUM_IMG):\n",
        "    \n",
        "    #gray図の作成\n",
        "    img = gray_image_creater(IMG_SIZE, RAD, num_bub+1)\n",
        "\n",
        "    data.append(img)\n",
        "    teacher_labels.append(num_bub)\n",
        "    \n",
        "    #進行状況\n",
        "    counter = counter + 1\n",
        "    if counter%20000 == 0:\n",
        "      print(str(counter) + ' / ' +str(NUM_IMG * NUM_BUB)) \n",
        "      plt.imshow(img)\n",
        "      plt.show()\n"
      ],
      "execution_count": null,
      "outputs": [
        {
          "output_type": "stream",
          "text": [
            "20000 / 120000\n"
          ],
          "name": "stdout"
        },
        {
          "output_type": "display_data",
          "data": {
            "image/png": "[encoded data removed]",
            "text/plain": [
              "<Figure size 432x288 with 1 Axes>"
            ]
          },
          "metadata": {
            "tags": [],
            "needs_background": "light"
          }
        },
        {
          "output_type": "stream",
          "text": [
            "40000 / 120000\n"
          ],
          "name": "stdout"
        },
        {
          "output_type": "display_data",
          "data": {
            "image/png": "[encoded data removed]",
            "text/plain": [
              "<Figure size 432x288 with 1 Axes>"
            ]
          },
          "metadata": {
            "tags": [],
            "needs_background": "light"
          }
        },
        {
          "output_type": "stream",
          "text": [
            "60000 / 120000\n"
          ],
          "name": "stdout"
        },
        {
          "output_type": "display_data",
          "data": {
            "image/png": "[encoded data removed]",
            "text/plain": [
              "<Figure size 432x288 with 1 Axes>"
            ]
          },
          "metadata": {
            "tags": [],
            "needs_background": "light"
          }
        },
        {
          "output_type": "stream",
          "text": [
            "80000 / 120000\n"
          ],
          "name": "stdout"
        },
        {
          "output_type": "display_data",
          "data": {
            "image/png": "[encoded data removed]",
            "text/plain": [
              "<Figure size 432x288 with 1 Axes>"
            ]
          },
          "metadata": {
            "tags": [],
            "needs_background": "light"
          }
        },
        {
          "output_type": "stream",
          "text": [
            "100000 / 120000\n"
          ],
          "name": "stdout"
        },
        {
          "output_type": "display_data",
          "data": {
            "image/png": "[encoded data removed]",
            "text/plain": [
              "<Figure size 432x288 with 1 Axes>"
            ]
          },
          "metadata": {
            "tags": [],
            "needs_background": "light"
          }
        },
        {
          "output_type": "stream",
          "text": [
            "120000 / 120000\n"
          ],
          "name": "stdout"
        },
        {
          "output_type": "display_data",
          "data": {
            "image/png": "[encoded data removed]",
            "text/plain": [
              "<Figure size 432x288 with 1 Axes>"
            ]
          },
          "metadata": {
            "tags": [],
            "needs_background": "light"
          }
        }
      ]
    },
    {
      "cell_type": "code",
      "metadata": {
        "id": "bA1_hZl2e1c2"
      },
      "source": [
        "BATCH_SIZE = 20\n",
        "NUM_CLASSES = NUM_BUB\n",
        "EPOCHS = 16\n",
        "\n",
        "IMG_ROWS, IMG_COLS = IMG_SIZE, IMG_SIZE\n",
        "\n",
        "bubble_number_names = ['1', '2', '3', '4', '5', '6']"
      ],
      "execution_count": null,
      "outputs": []
    },
    {
      "cell_type": "code",
      "metadata": {
        "id": "sXyIp0-tL_OW"
      },
      "source": [
        "#学習用と訓練用に分ける\n",
        "from sklearn.model_selection import train_test_split\n",
        "train_data, test_data = train_test_split(data, test_size=0.2, random_state=0)\n",
        "train_teacher_labels, test_teacher_labels = train_test_split(teacher_labels, test_size=0.2, random_state=0)\n",
        "\n",
        "#nparrayに変換\n",
        "train_data = np.array(train_data)\n",
        "train_teacher_labels = np.array(train_teacher_labels)\n",
        "test_data = np.array(test_data)\n",
        "test_teacher_labels = np.array(test_teacher_labels)"
      ],
      "execution_count": null,
      "outputs": []
    },
    {
      "cell_type": "code",
      "metadata": {
        "colab": {
          "base_uri": "https://localhost:8080/",
          "height": 282
        },
        "id": "ieWWqBAsOgI0",
        "outputId": "4111d168-1605-49dc-fd28-8f18dabbc6cc"
      },
      "source": [
        "#画像の表示\n",
        "data_location = 100\n",
        "print('teacher label is ' + str(train_teacher_labels[data_location] + 1)) #teacher_labelは0から始まるので、調整の１が必要\n",
        "plt.imshow(train_data[data_location])\n",
        "plt.show()"
      ],
      "execution_count": null,
      "outputs": [
        {
          "output_type": "stream",
          "text": [
            "teacher label is 1\n"
          ],
          "name": "stdout"
        },
        {
          "output_type": "display_data",
          "data": {
            "image/png": "[encoded data removed]",
            "text/plain": [
              "<Figure size 432x288 with 1 Axes>"
            ]
          },
          "metadata": {
            "tags": [],
            "needs_background": "light"
          }
        }
      ]
    },
    {
      "cell_type": "code",
      "metadata": {
        "colab": {
          "base_uri": "https://localhost:8080/"
        },
        "id": "qIgzTwIgix3h",
        "outputId": "874cba6a-1328-4963-fade-ba5673e293cc"
      },
      "source": [
        "from keras import backend as Keras\n",
        "\n",
        "print('Channel調整変換前　train_data shape:', train_data.shape)\n",
        "print('Channel調整変換前　test_data shape:', test_data.shape)\n",
        "\n",
        "if Keras.image_data_format() == 'channels=first':\n",
        "  train_data = train_data.reshape(train_data.shape[0], 1, IMG_ROWS, IMG_COLS)\n",
        "  test_data = test_data.reshape(test_data[0], 1, IMG_ROWS, IMG_COLS)\n",
        "  input_shape = (1, IMG_ROWS, IMG_COLS)\n",
        "\n",
        "else:\n",
        "  train_data = train_data.reshape(train_data.shape[0], IMG_ROWS, IMG_COLS, 1)\n",
        "  test_data = test_data.reshape(test_data.shape[0], IMG_ROWS, IMG_COLS, 1)\n",
        "  input_shape = (IMG_ROWS, IMG_COLS, 1)\n",
        "\n",
        "print('Channel調整変換後　train_data shape:', train_data.shape)\n",
        "print('Channel調整変換後　test_data shape:', test_data.shape)"
      ],
      "execution_count": null,
      "outputs": [
        {
          "output_type": "stream",
          "text": [
            "Channel調整変換前　train_data shape: (96000, 28, 28)\n",
            "Channel調整変換前　test_data shape: (24000, 28, 28)\n",
            "Channel調整変換後　train_data shape: (96000, 28, 28, 1)\n",
            "Channel調整変換後　test_data shape: (24000, 28, 28, 1)\n"
          ],
          "name": "stdout"
        }
      ]
    },
    {
      "cell_type": "code",
      "metadata": {
        "id": "HE7hhe8ckiOr"
      },
      "source": [
        "#float32に変換\n",
        "train_data = train_data.astype('float32')\n",
        "test_data = test_data.astype('float32')"
      ],
      "execution_count": null,
      "outputs": []
    },
    {
      "cell_type": "code",
      "metadata": {
        "id": "7DxzjN-4k4II"
      },
      "source": [
        "#0から１の間に分布させる\n",
        "train_data /= 255\n",
        "test_data /= 255"
      ],
      "execution_count": null,
      "outputs": []
    },
    {
      "cell_type": "code",
      "metadata": {
        "colab": {
          "base_uri": "https://localhost:8080/"
        },
        "id": "ErkWZXCvk6-i",
        "outputId": "f88cf6f9-c465-4e13-faef-07b380cb3d2e"
      },
      "source": [
        "#学習用教師用ラベルデータをOne-hotベクトルに変換\n",
        "print('Keras変換前学習用教師用ラベルデータ train_teacher_labels shape:', train_teacher_labels.shape)\n",
        "train_teacher_labels = keras.utils.to_categorical(train_teacher_labels, NUM_CLASSES)\n",
        "print('Keras変換後学習用教師用ラベルデータ train_teacher_labels shape:', train_teacher_labels.shape)\n",
        "\n",
        "#検証用教師用ラベルデータをOne-hotベクトルに変換\n",
        "print('Keras変換前検証用教師用ラベルデータ test_teacher_labels shape:', test_teacher_labels.shape)\n",
        "test_teacher_labels = keras.utils.to_categorical(test_teacher_labels, NUM_CLASSES)\n",
        "print('Keras変換後検証用教師用ラベルデータ test_teacher_labels shape:', test_teacher_labels.shape)"
      ],
      "execution_count": null,
      "outputs": [
        {
          "output_type": "stream",
          "text": [
            "Keras変換前学習用教師用ラベルデータ train_teacher_labels shape: (96000,)\n",
            "Keras変換後学習用教師用ラベルデータ train_teacher_labels shape: (96000, 6)\n",
            "Keras変換前検証用教師用ラベルデータ test_teacher_labels shape: (24000,)\n",
            "Keras変換後検証用教師用ラベルデータ test_teacher_labels shape: (24000, 6)\n"
          ],
          "name": "stdout"
        }
      ]
    },
    {
      "cell_type": "code",
      "metadata": {
        "id": "FCjFtHotlGfn"
      },
      "source": [
        "#ニューラルネットワークのモデル構築\n",
        "#Sequential Modelを採用\n",
        "from keras.models import Sequential\n",
        "\n",
        "model = Sequential()"
      ],
      "execution_count": null,
      "outputs": []
    },
    {
      "cell_type": "code",
      "metadata": {
        "id": "TZ5mDiDQlPWe"
      },
      "source": [
        "#モデル構築のためのClassのインポート\n",
        "from keras.layers import Dense, Dropout, Flatten\n",
        "from keras.layers import Conv2D, MaxPooling2D"
      ],
      "execution_count": null,
      "outputs": []
    },
    {
      "cell_type": "code",
      "metadata": {
        "colab": {
          "base_uri": "https://localhost:8080/"
        },
        "id": "hFBKHNx7lTf0",
        "outputId": "6c7094e1-1696-4323-955d-f4736763fd7e"
      },
      "source": [
        "#ニューラルネットワークの構築\n",
        "model.add(Conv2D(32, kernel_size=(3, 3), activation='relu', input_shape=input_shape)) #畳み込みレイヤーの追加\n",
        "#Conv2D:　二次元の畳み込みレイヤー,　32:入力するニューロンの数, kernel_size: 畳み込みエリアの幅と高さ, activation:　活性化関数, input_shape: 入力データの形状\n",
        "model.add(Conv2D(64, (3, 3), activation='relu')) #２つめの畳み込みレイヤーの追加\n",
        "model.add(MaxPooling2D(pool_size=(2, 2))) #プーリング層（圧縮）\n",
        "model.add(Dropout(0.25)) #ドロップアウト層：　過学習を防ぐ\n",
        "model.add(Flatten()) #入力を平滑化する: １次元にする\n",
        "model.add(Dense(128, activation='relu')) #全結合レイヤー\n",
        "model.add(Dropout(0.5)) #ドロップアウト層：　過学習を防ぐ\n",
        "model.add(Dense(NUM_CLASSES, activation='softmax')) #出力層　出力の各クラスの確率の形に変換する\n",
        "\n",
        "model.summary()"
      ],
      "execution_count": null,
      "outputs": [
        {
          "output_type": "stream",
          "text": [
            "Model: \"sequential\"\n",
            "_________________________________________________________________\n",
            "Layer (type)                 Output Shape              Param #   \n",
            "=================================================================\n",
            "conv2d (Conv2D)              (None, 26, 26, 32)        320       \n",
            "_________________________________________________________________\n",
            "conv2d_1 (Conv2D)            (None, 24, 24, 64)        18496     \n",
            "_________________________________________________________________\n",
            "max_pooling2d (MaxPooling2D) (None, 12, 12, 64)        0         \n",
            "_________________________________________________________________\n",
            "dropout (Dropout)            (None, 12, 12, 64)        0         \n",
            "_________________________________________________________________\n",
            "flatten (Flatten)            (None, 9216)              0         \n",
            "_________________________________________________________________\n",
            "dense (Dense)                (None, 128)               1179776   \n",
            "_________________________________________________________________\n",
            "dropout_1 (Dropout)          (None, 128)               0         \n",
            "_________________________________________________________________\n",
            "dense_1 (Dense)              (None, 6)                 774       \n",
            "=================================================================\n",
            "Total params: 1,199,366\n",
            "Trainable params: 1,199,366\n",
            "Non-trainable params: 0\n",
            "_________________________________________________________________\n"
          ],
          "name": "stdout"
        }
      ]
    },
    {
      "cell_type": "code",
      "metadata": {
        "id": "tWCsq99PlU9M"
      },
      "source": [
        "#モデルをどのように学習処理するか設定\n",
        "#最適化アルゴリズム(optimizer)、損失関数(loss)、評価関数のリスト(metrics、分類問題では正答率を使う)\n",
        "\n",
        "model.compile(optimizer=keras.optimizers.Adadelta(), loss=keras.losses.categorical_crossentropy, metrics=['accuracy'])"
      ],
      "execution_count": null,
      "outputs": []
    },
    {
      "cell_type": "code",
      "metadata": {
        "colab": {
          "base_uri": "https://localhost:8080/"
        },
        "id": "kjH92Bl4lXMX",
        "outputId": "1bde9863-a81e-47c6-94b1-d06b9ce5d4b0"
      },
      "source": [
        "print('学習させる前: train_data shape:', train_data.shape)\n",
        "print('学習させる前: test_data shape:', test_data.shape)"
      ],
      "execution_count": null,
      "outputs": [
        {
          "output_type": "stream",
          "text": [
            "学習させる前: train_data shape: (96000, 28, 28, 1)\n",
            "学習させる前: test_data shape: (24000, 28, 28, 1)\n"
          ],
          "name": "stdout"
        }
      ]
    },
    {
      "cell_type": "code",
      "metadata": {
        "id": "JHEN1YfKlYeB"
      },
      "source": [
        "#学習のグラフを描写する関数を定義\n",
        "\n",
        "def plot_loss_accyracy_graph(fit_record):\n",
        "  #青い線で誤差の履歴をプロット、黒い線で検証時の誤差をプロット\n",
        "  plt.plot(fit_record.history['loss'], \"-D\", color='blue', label='train_loss', linewidth=2)\n",
        "  plt.plot(fit_record.history['val_loss'], \"-D\", color='black', label='val_loss', linewidth=2)\n",
        "  plt.title('LOSS')\n",
        "  plt.xlabel('Epochs')\n",
        "  plt.ylabel('Loss')\n",
        "  plt.legend(loc='upper right')\n",
        "  plt.show()\n",
        "\n",
        "  #緑の線で精度の履歴をプロット、黒い線で検証時の精度をプロット\n",
        "  plt.plot(fit_record.history['accuracy'], \"-o\", color='green', label='train_accuracy', linewidth=2)\n",
        "  plt.plot(fit_record.history['val_accuracy'], \"-o\", color='black', label='val_accuracy', linewidth=2)\n",
        "  plt.title('ACCURACY')\n",
        "  plt.xlabel('Epochs')\n",
        "  plt.ylabel('Accuracy')\n",
        "  plt.legend(loc='lower right')\n",
        "  plt.show()"
      ],
      "execution_count": null,
      "outputs": []
    },
    {
      "cell_type": "code",
      "metadata": {
        "colab": {
          "base_uri": "https://localhost:8080/"
        },
        "id": "20mGbe5VlaPa",
        "outputId": "1fa3c5a3-b65b-4fb5-b7d1-d7af001bf56e"
      },
      "source": [
        "#学習\n",
        "\n",
        "print('反復学習回数：', EPOCHS)\n",
        "fit_record = model.fit(train_data, train_teacher_labels, batch_size=BATCH_SIZE, epochs=EPOCHS, verbose=1, validation_data=(test_data, test_teacher_labels))"
      ],
      "execution_count": null,
      "outputs": [
        {
          "output_type": "stream",
          "text": [
            "反復学習回数： 16\n",
            "Epoch 1/16\n",
            "4800/4800 [==============================] - 250s 52ms/step - loss: 1.7889 - accuracy: 0.1923 - val_loss: 1.7005 - val_accuracy: 0.3444\n",
            "Epoch 2/16\n",
            "4800/4800 [==============================] - 255s 53ms/step - loss: 1.6849 - accuracy: 0.3136 - val_loss: 1.5453 - val_accuracy: 0.3750\n",
            "Epoch 3/16\n",
            "4800/4800 [==============================] - 256s 53ms/step - loss: 1.5375 - accuracy: 0.3893 - val_loss: 1.3878 - val_accuracy: 0.4167\n",
            "Epoch 4/16\n",
            "4800/4800 [==============================] - 258s 54ms/step - loss: 1.4005 - accuracy: 0.4295 - val_loss: 1.2418 - val_accuracy: 0.5404\n",
            "Epoch 5/16\n",
            "4800/4800 [==============================] - 259s 54ms/step - loss: 1.2799 - accuracy: 0.4677 - val_loss: 1.1147 - val_accuracy: 0.6506\n",
            "Epoch 6/16\n",
            "4800/4800 [==============================] - 262s 55ms/step - loss: 1.1741 - accuracy: 0.5095 - val_loss: 1.0083 - val_accuracy: 0.7135\n",
            "Epoch 7/16\n",
            "4800/4800 [==============================] - 260s 54ms/step - loss: 1.0928 - accuracy: 0.5370 - val_loss: 0.9192 - val_accuracy: 0.8076\n",
            "Epoch 8/16\n",
            "4800/4800 [==============================] - 261s 54ms/step - loss: 1.0177 - accuracy: 0.5703 - val_loss: 0.8389 - val_accuracy: 0.8398\n",
            "Epoch 9/16\n",
            "4800/4800 [==============================] - 262s 55ms/step - loss: 0.9593 - accuracy: 0.5886 - val_loss: 0.7721 - val_accuracy: 0.8932\n",
            "Epoch 10/16\n",
            "4800/4800 [==============================] - 264s 55ms/step - loss: 0.9008 - accuracy: 0.6156 - val_loss: 0.7111 - val_accuracy: 0.9133\n",
            "Epoch 11/16\n",
            "4800/4800 [==============================] - 267s 56ms/step - loss: 0.8623 - accuracy: 0.6312 - val_loss: 0.6594 - val_accuracy: 0.9396\n",
            "Epoch 12/16\n",
            "4800/4800 [==============================] - 262s 55ms/step - loss: 0.8188 - accuracy: 0.6514 - val_loss: 0.6135 - val_accuracy: 0.9495\n",
            "Epoch 13/16\n",
            "4800/4800 [==============================] - 261s 54ms/step - loss: 0.7778 - accuracy: 0.6722 - val_loss: 0.5734 - val_accuracy: 0.9575\n",
            "Epoch 14/16\n",
            "4800/4800 [==============================] - 263s 55ms/step - loss: 0.7461 - accuracy: 0.6883 - val_loss: 0.5379 - val_accuracy: 0.9568\n",
            "Epoch 15/16\n",
            "4800/4800 [==============================] - 264s 55ms/step - loss: 0.7170 - accuracy: 0.7015 - val_loss: 0.5053 - val_accuracy: 0.9643\n",
            "Epoch 16/16\n",
            "4800/4800 [==============================] - 264s 55ms/step - loss: 0.6848 - accuracy: 0.7196 - val_loss: 0.4732 - val_accuracy: 0.9735\n"
          ],
          "name": "stdout"
        }
      ]
    },
    {
      "cell_type": "code",
      "metadata": {
        "colab": {
          "base_uri": "https://localhost:8080/",
          "height": 573
        },
        "id": "aklTxirulbxU",
        "outputId": "c8e4743d-5f8c-4802-8d55-52a81e165df8"
      },
      "source": [
        "plot_loss_accyracy_graph(fit_record)"
      ],
      "execution_count": null,
      "outputs": [
        {
          "output_type": "display_data",
          "data": {
            "image/png": "[encoded data removed]",
            "text/plain": [
              "<Figure size 432x288 with 1 Axes>"
            ]
          },
          "metadata": {
            "tags": [],
            "needs_background": "light"
          }
        },
        {
          "output_type": "display_data",
          "data": {
            "image/png": "[encoded data removed]",
            "text/plain": [
              "<Figure size 432x288 with 1 Axes>"
            ]
          },
          "metadata": {
            "tags": [],
            "needs_background": "light"
          }
        }
      ]
    },
    {
      "cell_type": "code",
      "metadata": {
        "id": "azMxhppFljSm"
      },
      "source": [
        "#検証\n",
        "result_score = model.evaluate(test_data, test_teacher_labels, verbose=0)"
      ],
      "execution_count": null,
      "outputs": []
    },
    {
      "cell_type": "code",
      "metadata": {
        "colab": {
          "base_uri": "https://localhost:8080/"
        },
        "id": "cj909Xx7ltSM",
        "outputId": "e7e23283-9a12-4f63-a378-71f9822bb478"
      },
      "source": [
        "print('検証誤差: ', result_score[0])\n",
        "print('検証正解率: ', result_score[1])"
      ],
      "execution_count": null,
      "outputs": [
        {
          "output_type": "stream",
          "text": [
            "検証誤差:  0.47324129939079285\n",
            "検証正解率:  0.9734583497047424\n"
          ],
          "name": "stdout"
        }
      ]
    },
    {
      "cell_type": "code",
      "metadata": {
        "id": "fNJke9YPlunm"
      },
      "source": [
        "#予測\n",
        "prediction_array = model.predict(test_data)"
      ],
      "execution_count": null,
      "outputs": []
    },
    {
      "cell_type": "code",
      "metadata": {
        "id": "5pbEiTNsb97p"
      },
      "source": [
        "#画像の描写する関数\n",
        "#prediction_arrayの中身を見ることが目的\n",
        "def plot_image(data_location, predictions_array, real_teacher_labels, dataset):\n",
        "  prediction_array, real_teacher_labels, img = predictions_array[data_location], real_teacher_labels[data_location], dataset[data_location]\n",
        "  plt.grid(False)\n",
        "  plt.xticks([])\n",
        "  plt.yticks([])\n",
        "  plt.imshow(img)\n",
        "\n",
        "  predicted_label = np.argmax(prediction_array)\n",
        "  #文字の色：予測結果と実際のラベルと一致する場合は緑、一致しない場合は赤\n",
        "  if predicted_label == real_teacher_labels:\n",
        "    color = 'green'\n",
        "  else:\n",
        "    color = 'red'\n",
        "\n",
        "  #np.maxはnumpyの関数で、指定した配列の中の最大値を取り出す\n",
        "  #ここでpredictions_arrayの最大値を返す\n",
        "  plt.xlabel('{} {:2.0f}% ({})'. format(bubble_number_names[predicted_label], 100 * np.max(predictions_array), bubble_number_names[real_teacher_labels]), color=color)\n"
      ],
      "execution_count": null,
      "outputs": []
    },
    {
      "cell_type": "code",
      "metadata": {
        "id": "vNvMv-vub_je"
      },
      "source": [
        "#予測した結果をヒストグラムで描写する関数\n",
        "def plot_teacher_labels_graph(data_location, predictions_array, real_teacher_labels):\n",
        "  predictions_array, real_teacher_labels = predictions_array[data_location], real_teacher_labels[data_location]\n",
        "  plt.grid(False)\n",
        "  plt.xticks([])\n",
        "  plt.yticks([])\n",
        "\n",
        "  thisplot = plt.bar(range(NUM_BUB), predictions_array, color='#666666')\n",
        "  plt.ylim([0,1])\n",
        "  predicted_label = np.argmax(predictions_array)\n",
        "\n",
        "  thisplot[predicted_label].set_color('red')\n",
        "  thisplot[real_teacher_labels].set_color('green')"
      ],
      "execution_count": null,
      "outputs": []
    },
    {
      "cell_type": "code",
      "metadata": {
        "id": "s2uys-QOcBLF"
      },
      "source": [
        "#One-hotベクトルを整数の配列に変換する関数\n",
        "import numpy as np\n",
        "\n",
        "def convertOneHotVercor2Integers(one_hot_vector):\n",
        "  return [np.where(r == 1)[0][0] for r in one_hot_vector]"
      ],
      "execution_count": null,
      "outputs": []
    },
    {
      "cell_type": "code",
      "metadata": {
        "id": "ddDadSBdcCkb"
      },
      "source": [
        "#描写のために検証データを変換しておく\n",
        "test_data = test_data.reshape(test_data.shape[0], IMG_ROWS, IMG_COLS)"
      ],
      "execution_count": null,
      "outputs": []
    },
    {
      "cell_type": "code",
      "metadata": {
        "colab": {
          "base_uri": "https://localhost:8080/",
          "height": 213
        },
        "id": "sh2sMimecEGV",
        "outputId": "11bb4d9f-31d9-4684-cc4e-288ea1d23789"
      },
      "source": [
        "#検証結果の確認\n",
        "data_location = 77\n",
        "plt.figure(figsize=(6,3))\n",
        "\n",
        "plt.subplot(1,2,1)\n",
        "plot_image(data_location, prediction_array, convertOneHotVercor2Integers(test_teacher_labels), test_data)\n",
        "\n",
        "plt.subplot(1,2,2)\n",
        "plot_teacher_labels_graph(data_location, prediction_array, convertOneHotVercor2Integers(test_teacher_labels))\n",
        "_ = plt.xticks(range(NUM_BUB), bubble_number_names, rotation=45)"
      ],
      "execution_count": null,
      "outputs": [
        {
          "output_type": "display_data",
          "data": {
            "image/png": "[encoded data removed]",
            "text/plain": [
              "<Figure size 432x216 with 2 Axes>"
            ]
          },
          "metadata": {
            "tags": [],
            "needs_background": "light"
          }
        }
      ]
    },
    {
      "cell_type": "code",
      "metadata": {
        "colab": {
          "base_uri": "https://localhost:8080/",
          "height": 1000
        },
        "id": "NUWogBCmcFqm",
        "outputId": "3cae2dc2-8c35-42ca-e292-28d090ada026"
      },
      "source": [
        "NUM_ROWS = 15\n",
        "NUM_COLS = 1\n",
        "NUM_IMAGES = NUM_ROWS * NUM_COLS\n",
        "\n",
        "plt.figure(figsize=(2 * 2 * NUM_COLS + 2, 2* NUM_ROWS + 4))\n",
        "plt.subplots_adjust(wspace=0.4, hspace=0.4)\n",
        "\n",
        "for i in range(NUM_IMAGES):\n",
        "  plt.subplot(NUM_ROWS, 2 * NUM_COLS, 2 * i + 1)\n",
        "  plot_image(i, prediction_array, convertOneHotVercor2Integers(test_teacher_labels), test_data)\n",
        "\n",
        "  plt.subplot(NUM_ROWS, 2 * NUM_COLS, 2 * i + 2)\n",
        "  plot_teacher_labels_graph(i, prediction_array, convertOneHotVercor2Integers(test_teacher_labels))\n",
        "  _ = plt.xticks(range(NUM_BUB), bubble_number_names, rotation=45)"
      ],
      "execution_count": null,
      "outputs": [
        {
          "output_type": "display_data",
          "data": {
            "image/png": "[encoded data removed]",
            "text/plain": [
              "<Figure size 432x2448 with 30 Axes>"
            ]
          },
          "metadata": {
            "tags": [],
            "needs_background": "light"
          }
        }
      ]
    },
    {
      "cell_type": "code",
      "metadata": {
        "id": "-Ir3rtoLcKf_"
      },
      "source": [
        ""
      ],
      "execution_count": null,
      "outputs": []
    },
    {
      "cell_type": "code",
      "metadata": {
        "id": "iZB1ZdbNhUan"
      },
      "source": [
        "#学習データを作成\n",
        "train_data = []\n",
        "train_teacher_labels = []\n",
        "\n",
        "for i in range(0, len(train_file_name)):\n",
        "  \n",
        "  #学習データ\n",
        "  img_bgr = cv2.imread(path_train + '/' + train_file_name[i])\n",
        "  img_gray = cv2.cvtColor(img_bgr, cv2.COLOR_BGR2GRAY)\n",
        "  train_data.append(img_gray)\n",
        "\n",
        "  #教師ラベル\n",
        "  label = train_file_name[i][0:1]\n",
        "  train_teacher_labels.append(np.int32(label) - 1) #予測値は１小さくする（0から始めるために）\n",
        "\n",
        "#検証データを作成\n",
        "test_data = []\n",
        "test_teacher_labels = []\n",
        "\n",
        "for i in range(0, len(test_file_name)):\n",
        "  #検証データ\n",
        "  img_bgr = cv2.imread(path_test + '/' + test_file_name[i])\n",
        "  img_gray = cv2.cvtColor(img_bgr, cv2.COLOR_BGR2GRAY)\n",
        "  test_data.append(img_gray)\n",
        "\n",
        "  #教師ラベル\n",
        "  label = test_file_name[i][0:1] \n",
        "  test_teacher_labels.append(np.int32(label) - 1) #予測値は１小さくする（0から始めるために）\n",
        "\n",
        "train_data = np.array(train_data)\n",
        "train_teacher_labels = np.array(train_teacher_labels)\n",
        "test_data = np.array(test_data)\n",
        "test_teacher_labels = np.array(test_teacher_labels)"
      ],
      "execution_count": null,
      "outputs": []
    },
    {
      "cell_type": "code",
      "metadata": {
        "id": "ro7tyFXiK3vZ"
      },
      "source": [
        "#データを作成\n",
        "\n",
        "path = '/content/drive/MyDrive/Colaboratory/bubble_counter/img0203_1'\n",
        "\n",
        "file_name = os.listdir(path)\n",
        "len(file_name)\n",
        "\n",
        "data = []\n",
        "teacher_labels = []\n",
        "\n",
        "for i in range(0, len(file_name)):\n",
        "  \n",
        "  #データ\n",
        "  img_bgr = cv2.imread(path + '/' + file_name[i])\n",
        "  img_gray = cv2.cvtColor(img_bgr, cv2.COLOR_BGR2GRAY)\n",
        "  data.append(img_gray)\n",
        "\n",
        "  #教師ラベル\n",
        "  label = file_name[i][0:1]\n",
        "  teacher_labels.append(np.int32(label) - 1) #予測値は１小さくする（0から始めるために）\n",
        "\n",
        "  print(str(i) + ' / ' +str(len(file_name)))"
      ],
      "execution_count": null,
      "outputs": []
    }
  ]
}